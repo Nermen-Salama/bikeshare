{
 "cells": [
  {
   "cell_type": "code",
   "execution_count": 11,
   "metadata": {},
   "outputs": [],
   "source": [
    "import time\n",
    "import pandas as pd\n",
    "import numpy as np\n",
    "\n",
    "CITY_DATA = { 'chicago': 'chicago.csv',\n",
    "              'new_york_city': 'new_york_city.csv',\n",
    "              'washington': 'washington.csv' }\n"
   ]
  },
  {
   "cell_type": "code",
   "execution_count": null,
   "metadata": {},
   "outputs": [],
   "source": [
    "def get_filters():\n",
    "    while True:\n",
    "        city=input(\"Would you like to see data for Chicago, New_York_city, or Washington?\").lower()\n",
    "        if city in CITY_DATA.keys():\n",
    "            print(\"You just select : \" + city.title() + \" City\")\n",
    "            filename = city +'.csv'\n",
    "            #filename\n",
    "            # load data file into a dataframe\n",
    "            df =  pd.read_csv(filename)\n",
    "            break\n",
    "        else:\n",
    "            print(\"Please Try again, please select from (Chicago, New York, or Washington) cities\")\n",
    "\n",
    "    while True:\n",
    "        filter_selection = input(\"Would you like to filter the data by (month, day, or not_at_all)?\").lower()\n",
    "        if filter_selection == \"month\":\n",
    "            print(\"You just select filtering data by : \" + filter_selection.title())\n",
    "            df['Start Time'] = pd.to_datetime(df['Start Time'])\n",
    "            df['Month'] = df['Start Time'].dt.month_name()\n",
    "            df['Month'] = df['Month'].str.lower()\n",
    "            month_selection = input(\"Which month - January, February, March, April, May, or June?\").lower()\n",
    "            months = ['january', 'february', 'march', 'april', 'may', 'june']\n",
    "\n",
    "            if month_selection in months:\n",
    "                # filter by month to create the new dataframe\n",
    "                df = df[df['Month'] == month_selection]\n",
    "                day_selection =\"all\"\n",
    "                #print(df.head())\n",
    "                break\n",
    "            else :\n",
    "                print(\"Please Try again, please select from (January, February, March, April, May, or June)\")\n",
    "        elif filter_selection == \"day\": \n",
    "            print(\"You just select filtering data by : \" + filter_selection.title())\n",
    "            df['Start Time'] = pd.to_datetime(df['Start Time'])\n",
    "            df['Day_of_week'] = df['Start Time'].dt.day_name()\n",
    "            df['Day_of_week'] = df['Day_of_week'].str.lower()\n",
    "            day_selection = input(\"Which day - Monday, Tuesday, Wednesday, Thursday, Friday, Saturday, or Sunday?\").lower()\n",
    "            days=['Which day', 'monday', 'tuesday', 'wednesday' , 'thursday', 'friday', 'saturday','sunday']\n",
    "            \n",
    "            if day_selection in days:\n",
    "                df = df[df['Day_of_week'] == day_selection]\n",
    "                month_selection = \"all\"\n",
    "                #print(df.head())\n",
    "                break\n",
    "            else :\n",
    "                print(\"Please Try again, please select from (Monday, Tuesday, Wednesday, Thursday, Friday, Saturday, or Sunday)\")                \n",
    "        elif filter_selection == \"not_at_all\":\n",
    "                print(\"You just select filtering data by : \" + filter_selection.title())\n",
    "                df['Start Time'] = pd.to_datetime(df['Start Time'])\n",
    "                df['Month'] = df['Start Time'].dt.month_name()\n",
    "                df['Month'] = df['Month'].str.lower()\n",
    "                df['Day_of_week'] = df['Start Time'].dt.day_name()\n",
    "                df['Day_of_week'] = df['Day_of_week'].str.lower()\n",
    "                month_selection = \"all\"\n",
    "                day_selection =\"all\"\n",
    "                #print(df.head())\n",
    "                break\n",
    "        else :\n",
    "                print(\"Please Try again, please select from (month, day, or not_at_all)\")\n",
    "    print('-'*40)\n",
    "    print('-'*40)\n",
    "    print(\"Loading the data for: \",city + \" city, \", \"at \", month_selection  + \" week(s) for \" ,day_selection + \" day(s).......\")\n",
    "\n",
    "    return city, month_selection, day_selection\n"
   ]
  },
  {
   "cell_type": "code",
   "execution_count": 12,
   "metadata": {},
   "outputs": [],
   "source": [
    "def get_filters():\n",
    "    while True:\n",
    "        city=input(\"Would you like to see data for Chicago, New_York_city, or Washington?\").lower()\n",
    "        if city in CITY_DATA.keys():\n",
    "            print(\"You just select : \" + city.title() + \" City\")\n",
    "            break\n",
    "        else:\n",
    "            print(\"Please Try again, please select from (Chicago, New York, or Washington) cities\")\n",
    "    while True:\n",
    "        filter_selection = input(\"Would you like to filter the data by (month, day, or not_at_all)?\").lower()\n",
    "        if filter_selection == \"month\":\n",
    "            print(\"You just select filtering data by : \" + filter_selection.title())\n",
    "            month_selection = input(\"Which month - January, February, March, April, May, or June?\").lower()\n",
    "            months = ['january', 'february', 'march', 'april', 'may', 'june']\n",
    "            if month_selection in months:\n",
    "                print(\"You just select filtering data by : \" + month_selection.title())\n",
    "                # filter by month to create the new dataframe\n",
    "                day_selection =\"all\"\n",
    "                break\n",
    "            else :\n",
    "                print(\"Please Try again, please select from (January, February, March, April, May, or June)\")\n",
    "        elif filter_selection == \"day\": \n",
    "            print(\"You just select filtering data by : \" + filter_selection.title())\n",
    "            day_selection = input(\"Which day - Monday, Tuesday, Wednesday, Thursday, Friday, Saturday, or Sunday?\").lower()\n",
    "            days=['Which day', 'monday', 'tuesday', 'wednesday' , 'thursday', 'friday', 'saturday','sunday']\n",
    "            if day_selection in days:\n",
    "                print(\"You just select filtering data by : \" + day_selection.title())\n",
    "                month_selection = \"all\"\n",
    "                break\n",
    "            else :\n",
    "                print(\"Please Try again, please select from (Monday, Tuesday, Wednesday, Thursday, Friday, Saturday, or Sunday)\")      \n",
    "        elif filter_selection == \"not_at_all\":\n",
    "                print(\"You just select filtering data by : \" + filter_selection.title())\n",
    "                month_selection = \"all\"\n",
    "                day_selection =\"all\"\n",
    "                break\n",
    "        else :\n",
    "                print(\"Please Try again, please select from (month, day, or not_at_all)\")\n",
    "    print('-'*40)\n",
    "    print('-'*40)\n",
    "\n",
    "    #return \"Loading the data for: {} city,at {} week(s) for {} day(s)......\".format(city, month_selection, day_selection)\n",
    "    return city, month_selection, day_selection, filter_selection\n",
    "     \n",
    "    print('-'*40)\n",
    "    print('-'*40)\n"
   ]
  },
  {
   "cell_type": "code",
   "execution_count": 13,
   "metadata": {},
   "outputs": [],
   "source": [
    "def load_data(city, month_selection, day_selection, filter_selection):\n",
    "    print(\"\\nLoading the data for: \",city + \" city, \", \"at \", month_selection  + \" week(s) for \" ,day_selection + \" day(s).......\\n\")\n",
    "    filename = city +'.csv'\n",
    "    # load data file into a dataframe\n",
    "    df =  pd.read_csv(filename)\n",
    "    while True:\n",
    "        if filter_selection == \"month\":\n",
    "            df['Start Time'] = pd.to_datetime(df['Start Time'])\n",
    "            df['Month'] = df['Start Time'].dt.month_name()\n",
    "            df['Month'] = df['Month'].str.lower()\n",
    "            df['Day_of_week'] = df['Start Time'].dt.day_name()\n",
    "            df['Day_of_week'] = df['Day_of_week'].str.lower()\n",
    "            months = ['january', 'february', 'march', 'april', 'may', 'june']\n",
    "            if month_selection in months:\n",
    "                # filter by month to create the new dataframe\n",
    "                df = df[df['Month'] == month_selection]\n",
    "                day_selection =\"all\"\n",
    "                #print(df.head())\n",
    "                break\n",
    "\n",
    "        elif filter_selection == \"day\": \n",
    "            df['Start Time'] = pd.to_datetime(df['Start Time'])\n",
    "            df['Day_of_week'] = df['Start Time'].dt.day_name()\n",
    "            df['Day_of_week'] = df['Day_of_week'].str.lower()\n",
    "            df['Month'] = df['Start Time'].dt.month_name()\n",
    "            df['Month'] = df['Month'].str.lower()\n",
    "            days=['Which day', 'monday', 'tuesday', 'wednesday' , 'thursday', 'friday', 'saturday','sunday']\n",
    "            if day_selection in days:\n",
    "                df = df[df['Day_of_week'] == day_selection]\n",
    "                month_selection = \"all\"\n",
    "                #print(df.head())\n",
    "                break\n",
    "        elif filter_selection == \"not_at_all\":\n",
    "                df['Start Time'] = pd.to_datetime(df['Start Time'])\n",
    "                df['Month'] = df['Start Time'].dt.month_name()\n",
    "                df['Month'] = df['Month'].str.lower()\n",
    "                df['Day_of_week'] = df['Start Time'].dt.day_name()\n",
    "                df['Day_of_week'] = df['Day_of_week'].str.lower()\n",
    "                month_selection = \"all\"\n",
    "                day_selection =\"all\"\n",
    "                #print(df.head())\n",
    "                break\n",
    "        else :\n",
    "                print(\"Please Try again, please select from (month, day, or not_at_all)\")\n",
    "    print('-'*40)\n",
    "    print('-'*40)\n",
    "\n",
    "    return df"
   ]
  },
  {
   "cell_type": "code",
   "execution_count": 14,
   "metadata": {},
   "outputs": [],
   "source": [
    "def time_stats(df):\n",
    "    \"\"\"Displays statistics on the most frequent times of travel.\"\"\"\n",
    "\n",
    "    print('\\nCalculating The Most Frequent Times of Travel...\\n')\n",
    "    start_time = time.time()\n",
    "\n",
    "    # display the most common month\n",
    "    com_month=df['Month'].mode()[0]\n",
    "    print(\"The most common month is     : \",com_month)\n",
    "   \n",
    "    #return \"The most comm : {} \".format(com_month)\n",
    "\n",
    "    # display the most common day of week\n",
    "    \n",
    "    com_day=df['Day_of_week'].mode()[0]\n",
    "    print(\"The most common day is       : \",com_day)\n",
    "    # display the most common start hour\n",
    "    df['start_hour'] = df['Start Time'].dt.hour\n",
    "    com_start_hour=df['start_hour'].mode()[0]\n",
    "    print(\"The most common start time is: \",com_start_hour)\n",
    "    \n",
    "    print(\"\\nThis took %s seconds.\" % (time.time() - start_time))\n",
    "    print('-'*40)\n",
    "    print('-'*40)\n",
    "    return df\n"
   ]
  },
  {
   "cell_type": "code",
   "execution_count": 15,
   "metadata": {},
   "outputs": [],
   "source": [
    "def station_stats(df):\n",
    "    \"\"\"Displays statistics on the most popular stations and trip.\"\"\"\n",
    "\n",
    "    print('\\nCalculating The Most Popular Stations and Trip...\\n')\n",
    "    start_time = time.time()\n",
    "\n",
    "    # display most commonly used start station\n",
    "    com_st_st = df['Start Station'].mode()[0]\n",
    "    print(\"The most common Start Station is: \",com_st_st)\n",
    "    # display most commonly used end station\n",
    "    com_end_st = df['End Station'].mode()[0] \n",
    "    print(\"The most common End Station is  : \",com_end_st)\n",
    "    # display most frequent combination of start station and end station trip\n",
    "    df['Most_com_Trip']= df['Start Station'] + \" to \" + df['End Station']\n",
    "    com_trip=df['Most_com_Trip'].mode()[0]\n",
    "    print(\"The most common Trip is         : \",com_trip)\n",
    "    print(\"\\nThis took %s seconds.\\n\" % (time.time() - start_time))\n",
    "    print('-'*40)\n",
    "    print('-'*40)\n"
   ]
  },
  {
   "cell_type": "code",
   "execution_count": 16,
   "metadata": {},
   "outputs": [],
   "source": [
    "def user_stats(df):\n",
    "    \"\"\"Displays statistics on bikeshare users.\"\"\"\n",
    "\n",
    "    print('\\nCalculating User Stats...\\n')\n",
    "    start_time = time.time()\n",
    "\n",
    "    # Display counts of user types\n",
    "    user_types = df['User Type'].value_counts()\n",
    "    print(\"User_types:\\n\",user_types)\n",
    "    print('-'*40)\n",
    "    # Display counts of gender\n",
    "    column_val=list(df.columns)\n",
    "    if \"Gender\" in column_val:\n",
    "        Gender = df['Gender'].value_counts()\n",
    "        print(\"Gender    :\\n\",Gender)\n",
    "    else: print(\"Gender    : There is no Gender data\")\n",
    "  \n",
    "    \n",
    "    # Display earliest, most recent, and most common year of birth\n",
    "    \n",
    "    # Display earliest year of birth\n",
    "    if \"Birth Year\" in column_val:\n",
    "        earliest_year = min(df['Birth Year'])\n",
    "        print(\"The earlist year of birth is    : \",earliest_year)\n",
    "        \n",
    "        # Display most recent year of birth\n",
    "        recent_year = max(df['Birth Year'])\n",
    "        print(\"The most recent year of birth is: \",recent_year)\n",
    "\n",
    "        # Display Most common year of birth\n",
    "        Birth = df['Birth Year'].mode()[0]\n",
    "        print(\"The most common year of birth is: \",Birth)\n",
    "        \n",
    "    else: print(\"Birth     :There is no Birth Year data\")\n",
    "    \n",
    "    \n",
    "    print(\"\\nThis took %s seconds.\" % (time.time() - start_time))\n",
    "    print('-'*40)\n",
    "    print('-'*40)"
   ]
  },
  {
   "cell_type": "code",
   "execution_count": 17,
   "metadata": {},
   "outputs": [],
   "source": [
    "def trip_duration_stats(df):\n",
    "    \"\"\"Displays statistics on the total and average trip duration.\"\"\"\n",
    "\n",
    "    print('\\nCalculating Trip Duration...\\n')\n",
    "    start_time = time.time()\n",
    "\n",
    "    # display total travel time\n",
    "    total_trip=df['Trip Duration'].sum()\n",
    "    print(\"Total trip duration    : \",total_trip)\n",
    "    # display mean travel time\n",
    "    mean_trip=int(df['Trip Duration'].mean())\n",
    "    print(\"Mean trip duration     : \",mean_trip)\n",
    "\n",
    "    print(\"\\nThis took %s seconds.\" % (time.time() - start_time))\n",
    "    print('-'*40)"
   ]
  },
  {
   "cell_type": "code",
   "execution_count": 18,
   "metadata": {},
   "outputs": [
    {
     "name": "stdin",
     "output_type": "stream",
     "text": [
      "Would you like to see data for Chicago, New_York_city, or Washington? a\n"
     ]
    },
    {
     "name": "stdout",
     "output_type": "stream",
     "text": [
      "Please Try again, please select from (Chicago, New York, or Washington) cities\n"
     ]
    },
    {
     "name": "stdin",
     "output_type": "stream",
     "text": [
      "Would you like to see data for Chicago, New_York_city, or Washington? Washington\n"
     ]
    },
    {
     "name": "stdout",
     "output_type": "stream",
     "text": [
      "You just select : Washington City\n"
     ]
    },
    {
     "name": "stdin",
     "output_type": "stream",
     "text": [
      "Would you like to filter the data by (month, day, or not_at_all)? a.\n"
     ]
    },
    {
     "name": "stdout",
     "output_type": "stream",
     "text": [
      "Please Try again, please select from (month, day, or not_at_all)\n"
     ]
    },
    {
     "name": "stdin",
     "output_type": "stream",
     "text": [
      "Would you like to filter the data by (month, day, or not_at_all)? day\n"
     ]
    },
    {
     "name": "stdout",
     "output_type": "stream",
     "text": [
      "You just select filtering data by : Day\n"
     ]
    },
    {
     "name": "stdin",
     "output_type": "stream",
     "text": [
      "Which day - Monday, Tuesday, Wednesday, Thursday, Friday, Saturday, or Sunday? a\n"
     ]
    },
    {
     "name": "stdout",
     "output_type": "stream",
     "text": [
      "Please Try again, please select from (Monday, Tuesday, Wednesday, Thursday, Friday, Saturday, or Sunday)\n"
     ]
    },
    {
     "name": "stdin",
     "output_type": "stream",
     "text": [
      "Would you like to filter the data by (month, day, or not_at_all)? day\n"
     ]
    },
    {
     "name": "stdout",
     "output_type": "stream",
     "text": [
      "You just select filtering data by : Day\n"
     ]
    },
    {
     "name": "stdin",
     "output_type": "stream",
     "text": [
      "Which day - Monday, Tuesday, Wednesday, Thursday, Friday, Saturday, or Sunday? Sunday\n"
     ]
    },
    {
     "name": "stdout",
     "output_type": "stream",
     "text": [
      "You just select filtering data by : Sunday\n",
      "----------------------------------------\n",
      "----------------------------------------\n",
      "\n",
      "Loading the data for:  washington city,  at  all week(s) for  sunday day(s).......\n",
      "\n",
      "----------------------------------------\n",
      "----------------------------------------\n",
      "\n",
      "Calculating The Most Frequent Times of Travel...\n",
      "\n",
      "The most common month is     :  april\n",
      "The most common day is       :  sunday\n",
      "The most common start time is:  12\n",
      "\n",
      "This took 0.014216423034667969 seconds.\n",
      "----------------------------------------\n",
      "----------------------------------------\n",
      "\n",
      "Calculating The Most Popular Stations and Trip...\n",
      "\n",
      "The most common Start Station is:  Lincoln Memorial\n",
      "The most common End Station is  :  Lincoln Memorial\n",
      "The most common Trip is         :  Jefferson Dr & 14th St SW to Jefferson Dr & 14th St SW\n",
      "\n",
      "This took 0.02039933204650879 seconds.\n",
      "\n",
      "----------------------------------------\n",
      "----------------------------------------\n",
      "\n",
      "Calculating User Stats...\n",
      "\n",
      "User_types:\n",
      " Subscriber    22255\n",
      "Customer      17321\n",
      "Name: User Type, dtype: int64\n",
      "Gender    : There is no Gender data\n",
      "----------------------------------------\n",
      "Birth     :There is no Birth Year data\n",
      "\n",
      "This took 0.003974199295043945 seconds.\n",
      "----------------------------------------\n",
      "----------------------------------------\n",
      "\n",
      "Calculating Trip Duration...\n",
      "\n",
      "Total trip duration    :  64689854.600999996\n",
      "Mean trip duration     :  1634\n",
      "\n",
      "This took 0.0010564327239990234 seconds.\n",
      "----------------------------------------\n"
     ]
    },
    {
     "name": "stdin",
     "output_type": "stream",
     "text": [
      "\n",
      "Would you like to read some of data? Enter yes or no.\n",
      " yes\n"
     ]
    },
    {
     "name": "stdout",
     "output_type": "stream",
     "text": [
      "    Unnamed: 0          Start Time             End Time  Trip Duration  \\\n",
      "3       665458 2017-04-02 07:48:35  2017-04-02 08:19:03       1827.341   \n",
      "5      1148202 2017-05-14 07:18:18  2017-05-14 07:24:56        398.000   \n",
      "14     1308542 2017-05-28 03:50:26  2017-05-28 04:24:26       2039.472   \n",
      "20      746605 2017-04-09 11:05:42  2017-04-09 11:26:44       1261.363   \n",
      "23      305000 2017-02-19 00:43:00  2017-02-19 00:46:00        226.006   \n",
      "\n",
      "                                  Start Station  \\\n",
      "3              Constitution Ave & 2nd St NW/DOL   \n",
      "5                                 1st & K St SE   \n",
      "14  Henry Bacon Dr & Lincoln Memorial Circle NW   \n",
      "20  Henry Bacon Dr & Lincoln Memorial Circle NW   \n",
      "23                     18th St & Wyoming Ave NW   \n",
      "\n",
      "                                          End Station   User Type Day_of_week  \\\n",
      "3                          M St & Pennsylvania Ave NW    Customer      sunday   \n",
      "5   Eastern Market Metro / Pennsylvania Ave & 7th ...  Subscriber      sunday   \n",
      "14                                   Lincoln Memorial    Customer      sunday   \n",
      "20  Smithsonian-National Mall / Jefferson Dr & 12t...    Customer      sunday   \n",
      "23                         Calvert St & Woodley Pl NW  Subscriber      sunday   \n",
      "\n",
      "       Month  start_hour                                      Most_com_Trip  \n",
      "3      april           7  Constitution Ave & 2nd St NW/DOL to M St & Pen...  \n",
      "5        may           7  1st & K St SE to Eastern Market Metro / Pennsy...  \n",
      "14       may           3  Henry Bacon Dr & Lincoln Memorial Circle NW to...  \n",
      "20     april          11  Henry Bacon Dr & Lincoln Memorial Circle NW to...  \n",
      "23  february           0  18th St & Wyoming Ave NW to Calvert St & Woodl...  \n"
     ]
    },
    {
     "name": "stdin",
     "output_type": "stream",
     "text": [
      "\n",
      "Would you like to restart? Enter yes or no.\n",
      " n\n"
     ]
    }
   ],
   "source": [
    "def main():\n",
    "    while True:\n",
    "        city, month, day, filterselect = get_filters()\n",
    "        df = load_data(city, month, day, filterselect)\n",
    "        time_stats(df)\n",
    "        station_stats(df)\n",
    "        user_stats(df)\n",
    "        trip_duration_stats(df)\n",
    "        \n",
    "        #Read Sume Data\n",
    "        read_data = input('\\nWould you like to read some of data? Enter yes or no.\\n')\n",
    "        if read_data.lower() == 'yes':\n",
    "            print(df.head())\n",
    "        restart = input('\\nWould you like to restart? Enter yes or no.\\n')\n",
    "        if restart.lower() != 'yes':\n",
    "            break\n",
    "\n",
    "\n",
    "if __name__ == \"__main__\":\n",
    "\tmain()\n"
   ]
  }
 ],
 "metadata": {
  "kernelspec": {
   "display_name": "Python 3",
   "language": "python",
   "name": "python3"
  },
  "language_info": {
   "codemirror_mode": {
    "name": "ipython",
    "version": 3
   },
   "file_extension": ".py",
   "mimetype": "text/x-python",
   "name": "python",
   "nbconvert_exporter": "python",
   "pygments_lexer": "ipython3",
   "version": "3.7.7"
  }
 },
 "nbformat": 4,
 "nbformat_minor": 4
}
